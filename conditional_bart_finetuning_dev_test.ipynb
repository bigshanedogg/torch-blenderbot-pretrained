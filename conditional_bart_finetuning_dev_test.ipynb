{
 "cells": [
  {
   "cell_type": "code",
   "execution_count": 1,
   "id": "df2a00ad-d84d-4513-a994-a9f3ea2047ef",
   "metadata": {
    "ExecuteTime": {
     "end_time": "2021-09-12T10:46:13.077316Z",
     "start_time": "2021-09-12T10:46:13.054317Z"
    }
   },
   "outputs": [],
   "source": [
    "import os\n",
    "os.environ[\"TOKENIZERS_PARALLELISM\"] = \"false\"\n",
    "from setproctitle import setproctitle\n",
    "setproctitle(\"Hodong_BART\")"
   ]
  },
  {
   "cell_type": "code",
   "execution_count": 2,
   "id": "236341ae-8c68-46bd-aad4-af7ab38f1cae",
   "metadata": {
    "ExecuteTime": {
     "end_time": "2021-09-12T10:46:15.584703Z",
     "start_time": "2021-09-12T10:46:13.080310Z"
    }
   },
   "outputs": [
    {
     "name": "stderr",
     "output_type": "stream",
     "text": [
      "C:\\Users\\bigshane\\anaconda3\\envs\\pytorch\\lib\\site-packages\\requests\\__init__.py:78: RequestsDependencyWarning: urllib3 (1.26.6) or chardet (3.0.4) doesn't match a supported version!\n",
      "  warnings.warn(\"urllib3 ({0}) or chardet ({1}) doesn't match a supported \"\n"
     ]
    }
   ],
   "source": [
    "import json\n",
    "import torch\n",
    "from tqdm import tqdm\n",
    "import numpy as np\n",
    "from transformers import BartModel\n",
    "from transformers import BartForConditionalGeneration\n",
    "from transformers import PreTrainedTokenizerFast\n",
    "from transformer.data.generator_dataset import BartDatasetFromDir, GeneratorDataLoader\n",
    "from transformer.tokenizer.utils import make_custom_tokenizer_from_pretrained, load_tokenizer_from_pretrained\n",
    "from transformer.models.interface import TrainHistory\n",
    "from transformer.models.bart import Bart\n",
    "from transformer.models.utils import load_state_dict\n",
    "from transformer.utils.common import set_device, convert_to_tensor, init_path"
   ]
  },
  {
   "cell_type": "markdown",
   "id": "83d5143d-c401-4e29-b6fb-a2f3ab282752",
   "metadata": {},
   "source": [
    "### Set WorkingDirectory"
   ]
  },
  {
   "cell_type": "code",
   "execution_count": 3,
   "id": "4b32fbf2-a28c-4d2d-9f78-ccd0a96017af",
   "metadata": {
    "ExecuteTime": {
     "end_time": "2021-09-12T10:46:15.599707Z",
     "start_time": "2021-09-12T10:46:15.586678Z"
    }
   },
   "outputs": [],
   "source": [
    "# # AIBUD_DEV\n",
    "# dataset_dir = \"/Users/aibud_dev/_jupyter\"\n",
    "# path = \"./config/file_path.json\"\n",
    "# file_path = None\n",
    "# with open(path, \"r\", encoding=\"utf-8\") as fp:\n",
    "#     file_path = json.load(fp)\n",
    "\n",
    "# # Korea_Server\n",
    "# dataset_dir = \"/home/mnt/guest1\"\n",
    "# path = \"./config/file_path.json\"\n",
    "# file_path = None\n",
    "# with open(path, \"r\", encoding=\"utf-8\") as fp:\n",
    "#     file_path = json.load(fp)\n",
    "\n",
    "# # bigshane_local\n",
    "# dataset_dir = \"D:\\_jupyter\"\n",
    "# path = \"./config/file_path.json\"\n",
    "# file_path = None\n",
    "# with open(path, \"r\", encoding=\"utf-8\") as fp:\n",
    "#     file_path = json.load(fp)\n",
    "\n",
    "# AWS\n",
    "dataset_dir = \"/home/ubuntu/data\"\n",
    "path = \"./config/file_path.json\"\n",
    "file_path = None\n",
    "with open(path, \"r\", encoding=\"utf-8\") as fp:\n",
    "    file_path = json.load(fp)"
   ]
  },
  {
   "cell_type": "markdown",
   "id": "6a655ef5-c1b2-4232-91db-70e0f4186ad0",
   "metadata": {},
   "source": [
    "### Load Tokenizer"
   ]
  },
  {
   "cell_type": "code",
   "execution_count": 4,
   "id": "5930c4ce-01e0-484b-be0d-7e043744e231",
   "metadata": {
    "ExecuteTime": {
     "end_time": "2021-09-12T10:46:15.809706Z",
     "start_time": "2021-09-12T10:46:15.601683Z"
    }
   },
   "outputs": [
    {
     "name": "stdout",
     "output_type": "stream",
     "text": [
      "loaded pretrained huggingface_tokenizer: 'D:\\_jupyter/huggingface_tokenizer/kor/kobart-customed'\n",
      "vocab_size: 30012\n",
      "0 : <s>\n",
      "1 : </s>\n",
      "5 : <unk>\n",
      "3 : <pad>\n",
      "6 : <mask>\n",
      "30000 : <num>\n",
      "30001 : <cls>\n",
      "30002 : <sep>\n",
      "30003 : <turn>\n",
      "30004 : <tpc>\n",
      "30005 : <situ>\n",
      "30006 : <ctxt>\n",
      "30007 : <cond>\n",
      "30008 : <cand>\n",
      "30009 : <pers>\n",
      "30010 : <spk1>\n",
      "30011 : <spk2>\n"
     ]
    }
   ],
   "source": [
    "tokenizer_file_path = dataset_dir + \"/huggingface_tokenizer/kor/kobart-customed\"\n",
    "\n",
    "# # save tokenizer to local\n",
    "# tokenizer_path = \"hyunwoongko/kobart\"\n",
    "# add_special_token = True\n",
    "# tokenizer = make_custom_tokenizer_from_pretrained(model_type=\"bart\", name_or_path=tokenizer_path, add_special_token=add_special_token)\n",
    "# tokenizer.save_pretrained(tokenizer_file_path)\n",
    "\n",
    "tokenizer = load_tokenizer_from_pretrained(model_type=\"bart\", name_or_path=tokenizer_file_path)\n",
    "print(\"vocab_size:\", len(tokenizer))\n",
    "\n",
    "for _id, _token in zip(tokenizer.all_special_ids, tokenizer.all_special_tokens):\n",
    "    print(_id, \":\", _token)"
   ]
  },
  {
   "cell_type": "markdown",
   "id": "599809cc-2fbd-4148-a587-55ea1fe57f56",
   "metadata": {},
   "source": [
    "### Load Dataset & DataLoader"
   ]
  },
  {
   "cell_type": "code",
   "execution_count": 5,
   "id": "ce848ad1-6142-4a16-8545-5f85bf9b3eb5",
   "metadata": {
    "ExecuteTime": {
     "end_time": "2021-09-12T10:48:56.644609Z",
     "start_time": "2021-09-12T10:46:15.811677Z"
    }
   },
   "outputs": [
    {
     "name": "stderr",
     "output_type": "stream",
     "text": [
      "Preprocessing data: 100%|████████████████████████████████████████████████████| 192784/192784 [02:08<00:00, 1503.05it/s]\n",
      "Preprocessing data: 100%|██████████████████████████████████████████████████████| 36109/36109 [00:25<00:00, 1418.23it/s]\n"
     ]
    }
   ],
   "source": [
    "timesteps = 128\n",
    "device = torch.device(\"cuda:0\" if torch.cuda.is_available() else \"cpu\")\n",
    "batch_size = 24\n",
    "nprocs = 1\n",
    "use_condition = True\n",
    "alpha_blending = 0.5\n",
    "\n",
    "total_data_dir = dataset_dir + \"/dataset/preprocessed/dialog_finetuning/kor/selectstar_n2x8_one/\"\n",
    "sample_data_dir = dataset_dir + \"/dataset/preprocessed/dialog_finetuning/kor/selectstar_n2x8_one/sample/\"\n",
    "train_data_dir = dataset_dir + \"/dataset/preprocessed/dialog_finetuning/kor/selectstar_n2x8_one/train/\"\n",
    "val_data_dir = dataset_dir + \"/dataset/preprocessed/dialog_finetuning/kor/selectstar_n2x8_one/val/\"\n",
    "\n",
    "train_dataset = BartDatasetFromDir(data_dir=train_data_dir, tokenizer=tokenizer, timesteps=timesteps, batch_size=batch_size, device=device, nprocs=nprocs, use_condition=use_condition, alpha_blending=alpha_blending)\n",
    "train_data_loader = GeneratorDataLoader(dataset=train_dataset, batch_size=batch_size, device=device)\n",
    "\n",
    "val_dataset = BartDatasetFromDir(data_dir=val_data_dir, tokenizer=tokenizer, timesteps=timesteps, batch_size=batch_size, device=device, nprocs=nprocs, use_condition=use_condition, alpha_blending=-1)\n",
    "val_data_loader = GeneratorDataLoader(dataset=val_dataset, batch_size=batch_size, device=device)"
   ]
  },
  {
   "cell_type": "code",
   "execution_count": 6,
   "id": "598aa87c-781f-402b-9ecb-ea14f22add38",
   "metadata": {
    "ExecuteTime": {
     "end_time": "2021-09-12T10:49:38.615770Z",
     "start_time": "2021-09-12T10:48:56.647560Z"
    },
    "scrolled": true
   },
   "outputs": [
    {
     "name": "stdout",
     "output_type": "stream",
     "text": [
      "input_ids:\t<ctxt> 요즘도 낚시를 즐기시나요? 예. 코로나 거리두기 4단계로 격상되고는 아예 가게 문닫고 낚시터에서 살아요. 저런 많이 힘드시겠어요. 저보다 제 집사람이 많이 힘들어 하죠. 그렇군요. 부인께서 살림을 하신다고 했죠?<cond>\n",
      "decoder_input_ids:\t<s> 예. 다행인건 집사람의 성격이 긍정적이라는 거에요.\n",
      "labels:\t예. 다행인건 집사람의 성격이 긍정적이라는 거에요.</s>\n",
      "\n",
      "header: ['input_ids', 'token_type_ids', 'attention_mask', 'decoder_input_ids', 'decoder_token_type_ids', 'decoder_attention_mask', 'labels']\n",
      "[[30006     1     1     0     0     1 14858]\n",
      " [16896     1     1 14858     0     1 19505]\n",
      " [ 9866     1     1 19505     0     1 12037]\n",
      " [22759     1     1 12037     0     1  9034]\n",
      " [16632     1     1  9034     0     1 14230]\n",
      " [23526     1     1 14230     0     1 17726]\n",
      " [11465     1     1 17726     0     1 12024]\n",
      " [ 9495     1     1 12024     0     1 25023]\n",
      " [17784     1     1 25023     0     1 23898]\n",
      " [14858     0     1 23898     0     1 14394]\n",
      " [14469     0     1 14394     0     1 14118]\n",
      " [10338     0     1 14118     0     1 11786]\n",
      " [ 9495     0     1 11786     0     1 14543]\n",
      " [18323     0     1 14543     0     1     1]\n",
      " [ 9925     0     1     3     0     0  -100]\n",
      " [ 9264     0     1     3     3     0  -100]\n",
      " [14136     0     1     3     3     0  -100]\n",
      " [17172     0     1     3     3     0  -100]\n",
      " [10338     0     1     3     3     0  -100]\n",
      " [15372     0     1     3     3     0  -100]\n",
      " [11224     0     1     3     3     0  -100]\n",
      " [14528     0     1     3     3     0  -100]\n",
      " [ 9698     0     1     3     3     0  -100]\n",
      " [18924     0     1     3     3     0  -100]\n",
      " [19221     0     1     3     3     0  -100]\n",
      " [14111     0     1     3     3     0  -100]\n",
      " [ 9759     0     1     3     3     0  -100]\n",
      " [ 9102     0     1     3     3     0  -100]\n",
      " [22759     0     1     3     3     0  -100]\n",
      " [11465     0     1     3     3     0  -100]\n",
      " [13173     0     1     3     3     0  -100]\n",
      " [14030     0     1     3     3     0  -100]\n",
      " [15202     0     1     3     3     0  -100]\n",
      " [14543     0     1     3     3     0  -100]\n",
      " [27942     1     1     3     3     0  -100]\n",
      " [14605     1     1     3     3     0  -100]\n",
      " [14452     1     1     3     3     0  -100]\n",
      " [16051     1     1     3     3     0  -100]\n",
      " [ 9060     1     1     3     3     0  -100]\n",
      " [17687     1     1     3     3     0  -100]\n",
      " [14209     0     1     3     3     0  -100]\n",
      " [14310     0     1     3     3     0  -100]\n",
      " [14060     0     1     3     3     0  -100]\n",
      " [14230     0     1     3     3     0  -100]\n",
      " [17726     0     1     3     3     0  -100]\n",
      " [12034     0     1     3     3     0  -100]\n",
      " [14605     0     1     3     3     0  -100]\n",
      " [26472     0     1     3     3     0  -100]\n",
      " [14042     0     1     3     3     0  -100]\n",
      " [17984     0     1     3     3     0  -100]\n",
      " [14764     1     1     3     3     0  -100]\n",
      " [26788     1     1     3     3     0  -100]\n",
      " [16916     1     1     3     3     0  -100]\n",
      " [17429     1     1     3     3     0  -100]\n",
      " [14255     1     1     3     3     0  -100]\n",
      " [20459     1     1     3     3     0  -100]\n",
      " [14042     1     1     3     3     0  -100]\n",
      " [11467     1     1     3     3     0  -100]\n",
      " [14117     1     1     3     3     0  -100]\n",
      " [14315     1     1     3     3     0  -100]\n",
      " [12244     1     1     3     3     0  -100]\n",
      " [  262     1     1     3     3     0  -100]\n",
      " [30007     1     1     3     3     0  -100]\n",
      " [    3     3     0     3     3     0  -100]\n",
      " [    3     3     0     3     3     0  -100]\n",
      " [    3     3     0     3     3     0  -100]\n",
      " [    3     3     0     3     3     0  -100]\n",
      " [    3     3     0     3     3     0  -100]\n",
      " [    3     3     0     3     3     0  -100]\n",
      " [    3     3     0     3     3     0  -100]\n",
      " [    3     3     0     3     3     0  -100]\n",
      " [    3     3     0     3     3     0  -100]\n",
      " [    3     3     0     3     3     0  -100]\n",
      " [    3     3     0     3     3     0  -100]\n",
      " [    3     3     0     3     3     0  -100]\n",
      " [    3     3     0     3     3     0  -100]\n",
      " [    3     3     0     3     3     0  -100]\n",
      " [    3     3     0     3     3     0  -100]\n",
      " [    3     3     0     3     3     0  -100]\n",
      " [    3     3     0     3     3     0  -100]\n",
      " [    3     3     0     3     3     0  -100]\n",
      " [    3     3     0     3     3     0  -100]\n",
      " [    3     3     0     3     3     0  -100]\n",
      " [    3     3     0     3     3     0  -100]\n",
      " [    3     3     0     3     3     0  -100]\n",
      " [    3     3     0     3     3     0  -100]\n",
      " [    3     3     0     3     3     0  -100]\n",
      " [    3     3     0     3     3     0  -100]\n",
      " [    3     3     0     3     3     0  -100]\n",
      " [    3     3     0     3     3     0  -100]\n",
      " [    3     3     0     3     3     0  -100]\n",
      " [    3     3     0     3     3     0  -100]\n",
      " [    3     3     0     3     3     0  -100]\n",
      " [    3     3     0     3     3     0  -100]\n",
      " [    3     3     0     3     3     0  -100]\n",
      " [    3     3     0     3     3     0  -100]\n",
      " [    3     3     0     3     3     0  -100]\n",
      " [    3     3     0     3     3     0  -100]\n",
      " [    3     3     0     3     3     0  -100]\n",
      " [    3     3     0     3     3     0  -100]\n",
      " [    3     3     0     3     3     0  -100]\n",
      " [    3     3     0     3     3     0  -100]\n",
      " [    3     3     0     3     3     0  -100]\n",
      " [    3     3     0     3     3     0  -100]\n",
      " [    3     3     0     3     3     0  -100]\n",
      " [    3     3     0     3     3     0  -100]\n",
      " [    3     3     0     3     3     0  -100]\n",
      " [    3     3     0     3     3     0  -100]\n",
      " [    3     3     0     3     3     0  -100]\n",
      " [    3     3     0     3     3     0  -100]\n",
      " [    3     3     0     3     3     0  -100]\n",
      " [    3     3     0     3     3     0  -100]\n",
      " [    3     3     0     3     3     0  -100]\n",
      " [    3     3     0     3     3     0  -100]\n",
      " [    3     3     0     3     3     0  -100]\n",
      " [    3     3     0     3     3     0  -100]\n",
      " [    3     3     0     3     3     0  -100]\n",
      " [    3     3     0     3     3     0  -100]\n",
      " [    3     3     0     3     3     0  -100]\n",
      " [    3     3     0     3     3     0  -100]\n",
      " [    3     3     0     3     3     0  -100]\n",
      " [    3     3     0     3     3     0  -100]\n",
      " [    3     3     0     3     3     0  -100]\n",
      " [    3     3     0     3     3     0  -100]\n",
      " [    3     3     0     3     3     0  -100]\n",
      " [    3     3     0     3     3     0  -100]\n",
      " [    3     3     0     3     3     0  -100]\n",
      " [    3     3     0     3     3     0  -100]]\n"
     ]
    }
   ],
   "source": [
    "train_data_loader.check()"
   ]
  },
  {
   "cell_type": "markdown",
   "id": "2afafa20-1e97-441e-a83f-75fe54344096",
   "metadata": {},
   "source": [
    "### Define Model"
   ]
  },
  {
   "cell_type": "code",
   "execution_count": 7,
   "id": "2d41a301-369a-4463-b3e9-1f93660a1385",
   "metadata": {
    "ExecuteTime": {
     "end_time": "2021-09-12T10:49:43.380170Z",
     "start_time": "2021-09-12T10:49:38.617756Z"
    }
   },
   "outputs": [
    {
     "name": "stdout",
     "output_type": "stream",
     "text": [
      "'temp_dir' has been set to './20210912_194938/' to save model while training\n",
      "Setting model device: cuda:0\n"
     ]
    }
   ],
   "source": [
    "bart = Bart(vocab_size=len(tokenizer))\n",
    "optimizer = bart.get_optimizer(lr=5e-5)\n",
    "\n",
    "bart = set_device(bart, device=device)\n",
    "optimizer = set_device(optimizer, device=device)"
   ]
  },
  {
   "cell_type": "markdown",
   "id": "0db78589-f8da-4754-bb56-60a97f2a7658",
   "metadata": {},
   "source": [
    "### Fit"
   ]
  },
  {
   "cell_type": "code",
   "execution_count": 8,
   "id": "7c530030-5112-4156-abaa-ff3717121623",
   "metadata": {
    "ExecuteTime": {
     "end_time": "2021-09-12T17:48:28.652590Z",
     "start_time": "2021-09-12T10:49:43.383141Z"
    }
   },
   "outputs": [
    {
     "name": "stderr",
     "output_type": "stream",
     "text": [
      "train: 100%|███████████████████████████████████████████████████████████████████| 16066/16066 [1:04:19<00:00,  4.16it/s]\n",
      "val:   0%|                                                                                    | 0/3010 [00:00<?, ?it/s]"
     ]
    },
    {
     "name": "stdout",
     "output_type": "stream",
     "text": [
      "Epoch_train (cuda:0) [ 1 /16066]: (loss) lm: 2.591e+00,  | (acc) lm: 4.867e-01, ppl: 2.677e+01,  | train_time: 3859.0s, last_lr:  0.0000500000\n"
     ]
    },
    {
     "name": "stderr",
     "output_type": "stream",
     "text": [
      "val: 100%|█████████████████████████████████████████████████████████████████████████| 3010/3010 [04:34<00:00, 10.97it/s]\n"
     ]
    },
    {
     "name": "stdout",
     "output_type": "stream",
     "text": [
      "Epoch_val (cuda:0) [ 1 /3010]: (loss) lm: 3.832e+00,  | (acc) lm: 3.557e-01, ppl: 4.891e+01,  | train_time: 274.0s, last_lr:  0.0000500000\n"
     ]
    },
    {
     "name": "stderr",
     "output_type": "stream",
     "text": [
      "train:   0%|                                                                                 | 0/16066 [00:00<?, ?it/s]"
     ]
    },
    {
     "name": "stdout",
     "output_type": "stream",
     "text": [
      "Saved into D:\\_jupyter/model/bart/selectstar_n2x8_one/epoch_1/\n"
     ]
    },
    {
     "name": "stderr",
     "output_type": "stream",
     "text": [
      "train: 100%|███████████████████████████████████████████████████████████████████| 16066/16066 [1:28:23<00:00,  3.03it/s]\n",
      "val:   0%|                                                                                    | 0/3010 [00:00<?, ?it/s]"
     ]
    },
    {
     "name": "stdout",
     "output_type": "stream",
     "text": [
      "Epoch_train (cuda:0) [ 2 /16066]: (loss) lm: 1.208e+00,  | (acc) lm: 7.418e-01, ppl: 3.722e+00,  | train_time: 5303.0s, last_lr:  0.0000500000\n"
     ]
    },
    {
     "name": "stderr",
     "output_type": "stream",
     "text": [
      "val: 100%|█████████████████████████████████████████████████████████████████████████| 3010/3010 [06:22<00:00,  7.86it/s]\n"
     ]
    },
    {
     "name": "stdout",
     "output_type": "stream",
     "text": [
      "Epoch_val (cuda:0) [ 2 /3010]: (loss) lm: 4.455e+00,  | (acc) lm: 3.427e-01, ppl: 9.307e+01,  | train_time: 382.0s, last_lr:  0.0000500000\n"
     ]
    },
    {
     "name": "stderr",
     "output_type": "stream",
     "text": [
      "train:   0%|                                                                                 | 0/16066 [00:00<?, ?it/s]"
     ]
    },
    {
     "name": "stdout",
     "output_type": "stream",
     "text": [
      "Saved into D:\\_jupyter/model/bart/selectstar_n2x8_one/epoch_2/\n"
     ]
    },
    {
     "name": "stderr",
     "output_type": "stream",
     "text": [
      "train: 100%|███████████████████████████████████████████████████████████████████| 16066/16066 [1:27:41<00:00,  3.05it/s]\n",
      "val:   0%|                                                                                    | 0/3010 [00:00<?, ?it/s]"
     ]
    },
    {
     "name": "stdout",
     "output_type": "stream",
     "text": [
      "Epoch_train (cuda:0) [ 3 /16066]: (loss) lm: 6.672e-01,  | (acc) lm: 8.568e-01, ppl: 2.088e+00,  | train_time: 5261.0s, last_lr:  0.0000500000\n"
     ]
    },
    {
     "name": "stderr",
     "output_type": "stream",
     "text": [
      "val: 100%|█████████████████████████████████████████████████████████████████████████| 3010/3010 [08:50<00:00,  5.67it/s]\n"
     ]
    },
    {
     "name": "stdout",
     "output_type": "stream",
     "text": [
      "Epoch_val (cuda:0) [ 3 /3010]: (loss) lm: 4.877e+00,  | (acc) lm: 3.371e-01, ppl: 1.436e+02,  | train_time: 530.0s, last_lr:  0.0000500000\n"
     ]
    },
    {
     "name": "stderr",
     "output_type": "stream",
     "text": [
      "train:   0%|                                                                                 | 0/16066 [00:00<?, ?it/s]"
     ]
    },
    {
     "name": "stdout",
     "output_type": "stream",
     "text": [
      "Saved into D:\\_jupyter/model/bart/selectstar_n2x8_one/epoch_3/\n"
     ]
    },
    {
     "name": "stderr",
     "output_type": "stream",
     "text": [
      "train: 100%|███████████████████████████████████████████████████████████████████| 16066/16066 [1:37:49<00:00,  2.74it/s]\n",
      "val:   0%|                                                                                    | 0/3010 [00:00<?, ?it/s]"
     ]
    },
    {
     "name": "stdout",
     "output_type": "stream",
     "text": [
      "Epoch_train (cuda:0) [ 4 /16066]: (loss) lm: 4.360e-01,  | (acc) lm: 9.054e-01, ppl: 1.617e+00,  | train_time: 5869.0s, last_lr:  0.0000500000\n"
     ]
    },
    {
     "name": "stderr",
     "output_type": "stream",
     "text": [
      "val: 100%|█████████████████████████████████████████████████████████████████████████| 3010/3010 [04:42<00:00, 10.67it/s]\n"
     ]
    },
    {
     "name": "stdout",
     "output_type": "stream",
     "text": [
      "Epoch_val (cuda:0) [ 4 /3010]: (loss) lm: 5.195e+00,  | (acc) lm: 3.348e-01, ppl: 1.995e+02,  | train_time: 282.0s, last_lr:  0.0000500000\n"
     ]
    },
    {
     "name": "stderr",
     "output_type": "stream",
     "text": [
      "train:   0%|                                                                                 | 0/16066 [00:00<?, ?it/s]"
     ]
    },
    {
     "name": "stdout",
     "output_type": "stream",
     "text": [
      "Saved into D:\\_jupyter/model/bart/selectstar_n2x8_one/epoch_4/\n"
     ]
    },
    {
     "name": "stderr",
     "output_type": "stream",
     "text": [
      "train: 100%|█████████████████████████████████████████████████████████████████████| 16066/16066 [52:07<00:00,  5.14it/s]\n",
      "val:   0%|                                                                                    | 0/3010 [00:00<?, ?it/s]"
     ]
    },
    {
     "name": "stdout",
     "output_type": "stream",
     "text": [
      "Epoch_train (cuda:0) [ 5 /16066]: (loss) lm: 3.182e-01,  | (acc) lm: 9.296e-01, ppl: 1.415e+00,  | train_time: 3127.0s, last_lr:  0.0000500000\n"
     ]
    },
    {
     "name": "stderr",
     "output_type": "stream",
     "text": [
      "val: 100%|█████████████████████████████████████████████████████████████████████████| 3010/3010 [03:26<00:00, 14.60it/s]\n"
     ]
    },
    {
     "name": "stdout",
     "output_type": "stream",
     "text": [
      "Epoch_val (cuda:0) [ 5 /3010]: (loss) lm: 5.454e+00,  | (acc) lm: 3.343e-01, ppl: 2.604e+02,  | train_time: 206.0s, last_lr:  0.0000500000\n",
      "Saved into D:\\_jupyter/model/bart/selectstar_n2x8_one/epoch_5/\n"
     ]
    }
   ],
   "source": [
    "epoch = 5\n",
    "model_dir = dataset_dir + \"/model/bart/selectstar_n2x8_one/\"\n",
    "init_path(model_dir, True)\n",
    "\n",
    "train_history = TrainHistory()\n",
    "val_history = TrainHistory()\n",
    "for _epoch in range(1, epoch+1):\n",
    "    # train\n",
    "    epoch_train_history = bart.iteration_epoch(data_loader=train_data_loader, optimizer=optimizer, device=device, train=True, verbose_per_batch=-1)\n",
    "    epoch_train_history_str = bart.verbose_template.format(mode=\"Epoch_train\", device=device, idx=_epoch, num_iters=len(train_data_loader)) + str(epoch_train_history)\n",
    "    print(epoch_train_history_str)\n",
    "    train_history += epoch_train_history\n",
    "    \n",
    "    # val\n",
    "    epoch_val_history = bart.iteration_epoch(data_loader=val_data_loader, optimizer=optimizer, device=device, train=False, verbose_per_batch=-1)\n",
    "    epoch_val_history_str = bart.verbose_template.format(mode=\"Epoch_val\", device=device, idx=_epoch, num_iters=len(val_data_loader)) + str(epoch_val_history)\n",
    "    print(epoch_val_history_str)\n",
    "    val_history += epoch_val_history\n",
    "    \n",
    "    bart.save(path=model_dir + \"epoch_{}/\".format(_epoch), optimizer=optimizer, tokenizer=tokenizer)\n",
    "    with open(model_dir+\"log.txt\", \"a\", encoding=\"utf-8\") as fp: \n",
    "        fp.write(epoch_train_history_str + \"\\n\")\n",
    "        fp.write(epoch_val_history_str + \"\\n\")"
   ]
  },
  {
   "cell_type": "code",
   "execution_count": 9,
   "id": "43009954-9b68-49e2-990f-f9a712fa8089",
   "metadata": {
    "ExecuteTime": {
     "end_time": "2021-09-12T20:44:15.976798Z",
     "start_time": "2021-09-12T20:44:15.263624Z"
    }
   },
   "outputs": [],
   "source": [
    "bart = load_state_dict(object=bart, path=model_dir+\"epoch_{}/\".format(4))"
   ]
  },
  {
   "cell_type": "code",
   "execution_count": 15,
   "id": "794da340-4c37-4cfd-ba8a-762b8b7f44ff",
   "metadata": {
    "ExecuteTime": {
     "end_time": "2021-09-12T20:45:09.987502Z",
     "start_time": "2021-09-12T20:45:09.720805Z"
    }
   },
   "outputs": [
    {
     "data": {
      "text/plain": [
       "'아니에요. 그럴 그럴때는 어떻게 하세요?'"
      ]
     },
     "execution_count": 15,
     "metadata": {},
     "output_type": "execute_result"
    }
   ],
   "source": [
    "utterances = [\n",
    "    \"안녕하세요\",\n",
    "    \"여쭤봐도 될까요?\"\n",
    "    \"요즘 인간관계가 고민이에요.\",\n",
    "    \"어떤 고민인지 여쭤봐도 될까요?\",\n",
    "    \"친구들이랑 연락도 뜸해지고 자주 못만나서 서먹해지는 것 같아요\",\n",
    "    \"그러셨군요.. 좀 더 자세히 말씀해주시겠어요?\",\n",
    "    \"코로나 때문에 만나질 못해서 더 혼자가 된 느낌이에요.\",\n",
    "    \"저도 지쳐요.\",\n",
    "    \"당신도 사람들을 자주 못 만나시나봐요\"\n",
    " ]\n",
    "\n",
    "text = \" \".join(utterances)\n",
    "input_ids = tokenizer.encode(text)\n",
    "# input_ids = [tokenizer.bos_token_id] + input_ids + [tokenizer.eos_token_id]\n",
    "input_ids = [30006] + input_ids + [30007]\n",
    "decoder_input_ids = [tokenizer.eos_token_id, tokenizer.bos_token_id]\n",
    "input_ids = convert_to_tensor([input_ids], device=device)\n",
    "decoder_input_ids = convert_to_tensor([decoder_input_ids], device=device)\n",
    "\n",
    "beam_output = bart.generate(input_ids=input_ids, \n",
    "                            decoder_input_ids=decoder_input_ids,\n",
    "                            max_length=128,\n",
    "                            min_length=10,\n",
    "                            no_repeat_ngram_size=3,\n",
    "                            num_beams=10, \n",
    "                            early_stopping=True)\n",
    "\n",
    "tokenizer.decode(beam_output.tolist()[0], skip_special_tokens=True)"
   ]
  },
  {
   "cell_type": "code",
   "execution_count": 19,
   "id": "7ec86375-28bc-4906-a8d5-82c0e20d1856",
   "metadata": {
    "ExecuteTime": {
     "end_time": "2021-09-11T01:26:11.136233Z",
     "start_time": "2021-09-11T01:26:10.875035Z"
    }
   },
   "outputs": [
    {
     "data": {
      "text/plain": [
       "'그러시군요.  많이 힘드시겠어요.'"
      ]
     },
     "execution_count": 19,
     "metadata": {},
     "output_type": "execute_result"
    }
   ],
   "source": [
    "utterances = [\n",
    "    \"오늘 하루가 정말 피곤하네요\",\n",
    "#     \"무슨 일 때문에 그런지 여쭤봐도 될까요?\"\n",
    "#     \"회사에서 일이 너무 많았어요.\",\n",
    "#     \"회사에서 안 좋은 일이 있으신가요?\",\n",
    "#     \"실수가 잦아져서인지 요즘 상사에게 자꾸 혼나요.\",\n",
    "#     \"왜  혼나는 일들이 쌓이셨나요?\",\n",
    "#     \"저번에 시키신 일을 제대로 못했거든요.\",\n",
    "#     \"어떤 일이 있었는지 말해주실 수 있나요?\",\n",
    "#     \"제가 서류를 잘못 가져다드렸어요.\"\n",
    " ]\n",
    "\n",
    "text = \" \".join(utterances)\n",
    "input_ids = tokenizer.encode(text)\n",
    "input_ids = [tokenizer.bos_token_id] + input_ids + [tokenizer.eos_token_id]\n",
    "decoder_input_ids = [tokenizer.eos_token_id, tokenizer.bos_token_id]\n",
    "input_ids = convert_to_tensor([input_ids], device=device)\n",
    "decoder_input_ids = convert_to_tensor([decoder_input_ids], device=device)\n",
    "\n",
    "beam_output = bart.generate(input_ids=input_ids, \n",
    "                            decoder_input_ids=decoder_input_ids,\n",
    "                            max_length=128,\n",
    "                            min_length=10,\n",
    "                            no_repeat_ngram_size=3,\n",
    "                            num_beams=10, \n",
    "                            early_stopping=True)\n",
    "\n",
    "tokenizer.decode(beam_output.tolist()[0], skip_special_tokens=True)"
   ]
  },
  {
   "cell_type": "code",
   "execution_count": null,
   "id": "1208d717-e069-461b-875a-56c5450b24e9",
   "metadata": {},
   "outputs": [],
   "source": [
    "# four_n2x8_one -> epoch_3가 베스트 (2)\n",
    "# selectstar_n2x8_one -> epoch_3가 베스트 (3)\n",
    "# four_n2x8_both -> epoch_7 > 4/5/6가 베스트 (1)\n",
    "# selectstar_n2x8_both -> epoch_4가 베스트 (4)"
   ]
  },
  {
   "cell_type": "code",
   "execution_count": null,
   "id": "77a506f8-82b4-4fa1-b864-3fe4a213938b",
   "metadata": {},
   "outputs": [],
   "source": []
  },
  {
   "cell_type": "code",
   "execution_count": null,
   "id": "f2df1223-0945-40fb-ad3c-1c88c1546d8d",
   "metadata": {
    "ExecuteTime": {
     "end_time": "2021-09-07T05:19:16.846917Z",
     "start_time": "2021-09-07T05:19:10.534Z"
    }
   },
   "outputs": [],
   "source": [
    "# input_batch = [\"<s>It <mask> retriever. My <mask> cute </s>\", ... ]\n",
    "# decoder_input_batch = [\"</s><s>My dog is cute. It is a golden retriever\", ...]\n",
    "# labels_batch = [\"<s>My dog is cute. It is a golden retriever</s>\", ...]"
   ]
  },
  {
   "cell_type": "code",
   "execution_count": null,
   "id": "fd3c7879-b0ef-447e-b97e-80a2f337a94c",
   "metadata": {},
   "outputs": [],
   "source": []
  },
  {
   "cell_type": "code",
   "execution_count": null,
   "id": "9931039c-a9b8-44e0-97bb-d1af9d00bd40",
   "metadata": {},
   "outputs": [],
   "source": []
  }
 ],
 "metadata": {
  "kernelspec": {
   "display_name": "pytorch",
   "language": "python",
   "name": "pytorch"
  },
  "language_info": {
   "codemirror_mode": {
    "name": "ipython",
    "version": 3
   },
   "file_extension": ".py",
   "mimetype": "text/x-python",
   "name": "python",
   "nbconvert_exporter": "python",
   "pygments_lexer": "ipython3",
   "version": "3.8.2"
  },
  "toc": {
   "base_numbering": 1,
   "nav_menu": {},
   "number_sections": true,
   "sideBar": true,
   "skip_h1_title": false,
   "title_cell": "Table of Contents",
   "title_sidebar": "Contents",
   "toc_cell": false,
   "toc_position": {},
   "toc_section_display": true,
   "toc_window_display": false
  }
 },
 "nbformat": 4,
 "nbformat_minor": 5
}
