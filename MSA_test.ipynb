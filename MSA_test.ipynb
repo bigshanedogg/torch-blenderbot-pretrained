{
 "cells": [
  {
   "cell_type": "code",
   "execution_count": 1,
   "id": "2d0329fb",
   "metadata": {
    "ExecuteTime": {
     "end_time": "2021-08-31T01:37:44.757881Z",
     "start_time": "2021-08-31T01:37:44.616050Z"
    }
   },
   "outputs": [],
   "source": [
    "import requests"
   ]
  },
  {
   "cell_type": "markdown",
   "id": "99cb2d25",
   "metadata": {},
   "source": [
    "## Dialog-Retriever"
   ]
  },
  {
   "cell_type": "code",
   "execution_count": 46,
   "id": "6ba487d1",
   "metadata": {
    "ExecuteTime": {
     "end_time": "2021-08-31T01:41:54.802274Z",
     "start_time": "2021-08-31T01:41:54.788305Z"
    }
   },
   "outputs": [],
   "source": [
    "host = \"18.223.226.123\"\n",
    "port = \"8000\"\n",
    "service = \"dialog-retriever\"\n",
    "\n",
    "end_point = \"infer-next-utterance\"\n",
    "\n",
    "template = \"http://{host}:{port}/{service}/{end_point}\"\n",
    "uri = template.format(host=host, port=port, service=service, end_point=end_point)\n",
    "\n",
    "body_template = {\n",
    "    \"subtoken_min_length\": 5,\n",
    "    \"num_samples\": 5,\n",
    "    \"temperature\": 1.0,\n",
    "    \"beam_size\": 5,\n",
    "    \"lp_alpha\": 1.2,\n",
    "    \"lp_min_length\": 5,\n",
    "    \"prev_utterance\": None,\n",
    "    \"intersection_tolerance\": 0.5,\n",
    "    \"top_n\": 5,\n",
    "    \"max_retry\": 5,\n",
    "    \"return_probs\": True\n",
    "}"
   ]
  },
  {
   "cell_type": "code",
   "execution_count": 56,
   "id": "c30f67a7",
   "metadata": {
    "ExecuteTime": {
     "end_time": "2021-08-31T01:42:16.826500Z",
     "start_time": "2021-08-31T01:42:13.902457Z"
    }
   },
   "outputs": [
    {
     "data": {
      "text/plain": [
       "[['의지가 확고하네요 ', 0.6436303100747861],\n",
       " ['마음이 아파겠네요', 0.05345941272738124],\n",
       " ['다른 분들은 더 많이 일 하신다구요?', 0.04682926725480518],\n",
       " ['엄마마음은 아들에게 뭐든 해주고 싶은게 당연하죠 코로나가 부모님들을 정말 힘들게 하네요', 0.041431500043046667],\n",
       " ['너무 걱정말아요 ', 0.02487882237197578]]"
      ]
     },
     "execution_count": 56,
     "metadata": {},
     "output_type": "execute_result"
    }
   ],
   "source": [
    "utterances = [\n",
    "    \"휴 정말 힘든 하루네요\",\n",
    "    \"넵 무슨 고민이신가요?\", \n",
    "    \"학교에서 너무 힘든 일이 있었어요\",\n",
    "    \"무슨 점이 힘드나요?\", \n",
    "    \"이제 곧 시험인데, 준비가 하나도 안되었어요\",\n",
    "    \"너무 마음이 아프네요\", \n",
    "    \"이제 다시 공부하러갈 생각하니까 너무 캄캄해요\"\n",
    "]\n",
    "conditions = None\n",
    "speaker_ids = [(i+len(utterances))%2 for i in range(0, len(utterances))]\n",
    "\n",
    "body = body_template.copy()\n",
    "body[\"utterances\"] = utterances\n",
    "body[\"speaker_ids\"] = speaker_ids\n",
    "\n",
    "response = requests.post(uri, json=body)\n",
    "json_output = response.json()\n",
    "if not json_output[\"status\"]: print(\"{status}: {error_message}\".format(status=json_output[\"status\"], error_message=json_output[\"error_message\"]))\n",
    "json_output[\"output\"]"
   ]
  },
  {
   "cell_type": "markdown",
   "id": "561b8c4e",
   "metadata": {},
   "source": [
    "## Dialog-Generator"
   ]
  },
  {
   "cell_type": "code",
   "execution_count": 198,
   "id": "14d4feaf-a171-475b-aba2-db824947f297",
   "metadata": {},
   "outputs": [],
   "source": [
    "host = \"18.223.226.123\"\n",
    "port = \"8000\"\n",
    "service = \"dialog-generator\"\n",
    "\n",
    "# end_point = \"infer-next-utterance/greedy\"\n",
    "# end_point = \"infer-next-utterance/random-sampling\"\n",
    "end_point = \"infer-next-utterance/beam-search\"\n",
    "\n",
    "template = \"http://{host}:{port}/{service}/{end_point}\"\n",
    "uri = template.format(host=host, port=port, service=service, end_point=end_point)\n",
    "\n",
    "body_template = {\n",
    "    \"subtoken_min_length\": 5,\n",
    "    \"num_samples\": 5,\n",
    "    \"temperature\": 1.0,\n",
    "    \"beam_size\": 5,\n",
    "    \"lp_alpha\": 1.2,\n",
    "    \"lp_min_length\": 5,\n",
    "    \"prev_utterance\": None,\n",
    "    \"intersection_tolerance\": 0.5,\n",
    "    \"top_n\": 5,\n",
    "    \"max_retry\": 5,\n",
    "    \"return_probs\": True\n",
    "}"
   ]
  },
  {
   "cell_type": "code",
   "execution_count": 382,
   "id": "7d25d7c8-073e-42fb-a72b-480bad89702e",
   "metadata": {},
   "outputs": [
    {
     "data": {
      "text/plain": [
       "[['분명히 좋 은 기회 가 생겼 을 거 에요 ! 축하 드려요 !', 0.9987482611978342],\n",
       " ['축하 드려요 ! 새로운 곳 에서 분명히 좋 은 일 이 있 었 으면 좋 았 을 거 에요 !', 0.9982733647653561],\n",
       " ['축하 드려요 ! 새로운 곳 에서 분명히 좋 은 일 이 있 었 으면 좋 겠 네요 !', 0.998261558546661],\n",
       " ['축하 드려요 ! 혹시 무슨 문제 가 있 나요 ?', 0.995714806732915],\n",
       " ['축하 해요 ! 어디 로 가 시 나요 ?', 0.995307049144551]]"
      ]
     },
     "execution_count": 382,
     "metadata": {},
     "output_type": "execute_result"
    }
   ],
   "source": [
    "utterances = [\n",
    "    \"기분 좋은 하루에요!\",\n",
    "    '왜 요 ? 무슨 일 있 나요 ?',\n",
    "    \"오늘이 중요한 발표였는데 성공적으로 마무리했어요!\",\n",
    "    '좋 은 소식 이 네요 ! 축하 드려요 !',\n",
    "    \"고마워요 즐거운 하루 되세요ㅎㅎ\",\n",
    "    '분명히 좋 은 기회 가 생겼 을 거 에요 ! 축하 드려요 !'\n",
    "#     '그러면 한 번 해 보 세요 . 하 고 싶 은 말 을 해 보 는 것 도 좋 을 것 같 아요 .'\n",
    "]\n",
    "# conditions = [\"인간관계가 힘들어요.\"]\n",
    "conditions = None\n",
    "speaker_ids = [(i+len(utterances))%2 for i in range(0, len(utterances))]\n",
    "\n",
    "body = body_template.copy()\n",
    "body[\"utterances\"] = utterances\n",
    "body[\"speaker_ids\"] = speaker_ids\n",
    "\n",
    "response = requests.post(uri, json=body)\n",
    "json_output = response.json()\n",
    "if not json_output[\"status\"]: print(\"{status}: {error_message}\".format(status=json_output[\"status\"], error_message=json_output[\"error_message\"]))\n",
    "json_output[\"output\"]"
   ]
  },
  {
   "cell_type": "code",
   "execution_count": null,
   "id": "bd82bfc8-a1b0-4934-ba48-db708288fc3e",
   "metadata": {},
   "outputs": [],
   "source": [
    "for speaker_id, utterance in zip(speaker_ids, utterances):\n",
    "    print(\"{}: {}\".format(speaker_id, utterance))\n",
    "\n",
    "for candidate_idx, (candidate, prob) in enumerate(json_output[\"output\"]):\n",
    "    print(\"\\t{}) {} ({})\".format(candidate_idx, candidate, prob))"
   ]
  },
  {
   "cell_type": "markdown",
   "id": "5222d240",
   "metadata": {},
   "source": [
    "## Blender-Bot"
   ]
  },
  {
   "cell_type": "code",
   "execution_count": null,
   "id": "4399d314-f5bf-41bf-81b2-1ed261ae0faf",
   "metadata": {},
   "outputs": [],
   "source": [
    "host = \"18.223.226.123\"\n",
    "port = \"8000\"\n",
    "service = \"blender-bot\"\n",
    "\n",
    "# end_point = \"infer-next-utterance/greedy\"\n",
    "# end_point = \"infer-next-utterance/random-sampling\"\n",
    "end_point = \"infer-next-utterance/beam-search\"\n",
    "\n",
    "template = \"http://{host}:{port}/{service}/{end_point}\"\n",
    "uri = template.format(host=host, port=port, service=service, end_point=end_point)\n",
    "\n",
    "body_template = {\n",
    "    \"subtoken_min_length\": 5,\n",
    "    \"num_samples\": 5,\n",
    "    \"temperature\": 1.0,\n",
    "    \"beam_size\": 5,\n",
    "    \"lp_alpha\": 1.2,\n",
    "    \"lp_min_length\": 5,\n",
    "    \"prev_utterance\": None,\n",
    "    \"intersection_tolerance\": 0.5,\n",
    "    \"top_n\": 5,\n",
    "    \"max_retry\": 5,\n",
    "    \"return_probs\": True\n",
    "}"
   ]
  },
  {
   "cell_type": "code",
   "execution_count": null,
   "id": "bb84dd6c-46e7-46ad-ba25-cd42e09ab0b5",
   "metadata": {},
   "outputs": [],
   "source": []
  }
 ],
 "metadata": {
  "kernelspec": {
   "display_name": "pytorch",
   "language": "python",
   "name": "pytorch"
  },
  "language_info": {
   "codemirror_mode": {
    "name": "ipython",
    "version": 3
   },
   "file_extension": ".py",
   "mimetype": "text/x-python",
   "name": "python",
   "nbconvert_exporter": "python",
   "pygments_lexer": "ipython3",
   "version": "3.8.2"
  },
  "toc": {
   "base_numbering": 1,
   "nav_menu": {},
   "number_sections": true,
   "sideBar": true,
   "skip_h1_title": false,
   "title_cell": "Table of Contents",
   "title_sidebar": "Contents",
   "toc_cell": false,
   "toc_position": {},
   "toc_section_display": true,
   "toc_window_display": false
  }
 },
 "nbformat": 4,
 "nbformat_minor": 5
}
